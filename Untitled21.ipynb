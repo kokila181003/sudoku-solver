{
  "cells": [
    {
      "cell_type": "code",
      "execution_count": 2,
      "metadata": {
        "id": "yRawEO9iXH3g"
      },
      "outputs": [],
      "source": [
        "model = models.Sequential([\n",
        "    layers.Conv2D(32, (3, 3), activation='relu', input_shape=(9, 9, 9)),\n",
        "    layers.Conv2D(64, (3, 3), activation='relu'),\n",
        "    layers.Flatten(),\n",
        "    layers.Dense(81, activation='softmax')\n",
        "])\n"
      ]
    },
    {
      "cell_type": "code",
      "execution_count": null,
      "metadata": {},
      "outputs": [],
      "source": []
    },
    {
      "cell_type": "code",
      "execution_count": null,
      "metadata": {},
      "outputs": [],
      "source": []
    },
    {
      "cell_type": "code",
      "execution_count": null,
      "metadata": {},
      "outputs": [],
      "source": []
    },
    {
      "cell_type": "code",
      "execution_count": null,
      "metadata": {},
      "outputs": [],
      "source": []
    },
    {
      "cell_type": "code",
      "execution_count": 3,
      "metadata": {
        "colab": {
          "base_uri": "https://localhost:8080/"
        },
        "id": "zNQNNG8TXUCo",
        "outputId": "47ed780f-fd1e-4976-83b6-90f7d78076f7"
      },
      "outputs": [
        {
          "name": "stdout",
          "output_type": "stream",
          "text": [
            "Generated dataset shape:\n",
            "Puzzle dataset: (1000, 9, 9)\n",
            "Solution dataset: (1000, 9, 9)\n"
          ]
        }
      ],
      "source": [
        "import numpy as np\n",
        "\n",
        "def generate_puzzle():\n",
        "    # Generate a random valid Sudoku puzzle\n",
        "    puzzle = np.zeros((9, 9), dtype=int)\n",
        "    puzzle[0] = np.random.permutation(9) + 1\n",
        "    for i in range(1, 9):\n",
        "        k = (i // 3) * 3\n",
        "        j = (i * 3) % 9\n",
        "        puzzle[i] = puzzle[0, j:j+3].tolist() + puzzle[1, j:j+3].tolist() + puzzle[2, j:j+3].tolist()\n",
        "        puzzle[i] = np.roll(puzzle[i], k)\n",
        "    return puzzle\n",
        "\n",
        "def solve_puzzle(puzzle):\n",
        "    # Solve the Sudoku puzzle using backtracking\n",
        "    def is_valid_move(row, col, num):\n",
        "        for i in range(9):\n",
        "            if puzzle[row][i] == num or puzzle[i][col] == num:\n",
        "                return False\n",
        "        start_row, start_col = 3 * (row // 3), 3 * (col // 3)\n",
        "        for i in range(3):\n",
        "            for j in range(3):\n",
        "                if puzzle[i + start_row][j + start_col] == num:\n",
        "                    return False\n",
        "        return True\n",
        "\n",
        "    def solve():\n",
        "        for row in range(9):\n",
        "            for col in range(9):\n",
        "                if puzzle[row][col] == 0:\n",
        "                    for num in range(1, 10):\n",
        "                        if is_valid_move(row, col, num):\n",
        "                            puzzle[row][col] = num\n",
        "                            if solve():\n",
        "                                return True\n",
        "                            puzzle[row][col] = 0\n",
        "                    return False\n",
        "        return True\n",
        "\n",
        "    solved_puzzle = puzzle.copy()\n",
        "    solve()\n",
        "    return solved_puzzle\n",
        "\n",
        "def generate_dataset(num_samples):\n",
        "    # Generate a dataset of Sudoku puzzles and their solutions\n",
        "    puzzles = []\n",
        "    solutions = []\n",
        "    for _ in range(num_samples):\n",
        "        puzzle = generate_puzzle()\n",
        "        solved_puzzle = solve_puzzle(puzzle)\n",
        "        puzzles.append(puzzle)\n",
        "        solutions.append(solved_puzzle)\n",
        "    return np.array(puzzles), np.array(solutions)\n",
        "\n",
        "# Example usage to generate a dataset with 1000 samples\n",
        "puzzle_dataset, solution_dataset = generate_dataset(1000)\n",
        "print(\"Generated dataset shape:\")\n",
        "print(\"Puzzle dataset:\", puzzle_dataset.shape)\n",
        "print(\"Solution dataset:\", solution_dataset.shape)\n"
      ]
    },
    {
      "cell_type": "code",
      "execution_count": 4,
      "metadata": {
        "colab": {
          "base_uri": "https://localhost:8080/"
        },
        "id": "EfFHy3EVXlBw",
        "outputId": "ff08f5d2-532c-4f55-b499-bc8bfb46db75"
      },
      "outputs": [
        {
          "name": "stdout",
          "output_type": "stream",
          "text": [
            "Model: \"sequential_2\"\n",
            "_________________________________________________________________\n",
            " Layer (type)                Output Shape              Param #   \n",
            "=================================================================\n",
            " conv2d_4 (Conv2D)           (None, 7, 7, 32)          2624      \n",
            "                                                                 \n",
            " conv2d_5 (Conv2D)           (None, 5, 5, 64)          18496     \n",
            "                                                                 \n",
            " flatten_2 (Flatten)         (None, 1600)              0         \n",
            "                                                                 \n",
            " dense_2 (Dense)             (None, 81)                129681    \n",
            "                                                                 \n",
            "=================================================================\n",
            "Total params: 150801 (589.07 KB)\n",
            "Trainable params: 150801 (589.07 KB)\n",
            "Non-trainable params: 0 (0.00 Byte)\n",
            "_________________________________________________________________\n"
          ]
        }
      ],
      "source": [
        "import tensorflow as tf\n",
        "from tensorflow.keras import layers, models\n",
        "\n",
        "# Define the CNN architecture\n",
        "model = models.Sequential([\n",
        "    # Convolutional layers\n",
        "    layers.Conv2D(32, (3, 3), activation='relu', input_shape=(9, 9, 9)),\n",
        "    layers.Conv2D(64, (3, 3), activation='relu'),\n",
        "    # Flatten layer\n",
        "    layers.Flatten(),\n",
        "    # Dense (fully connected) layer\n",
        "    layers.Dense(81, activation='softmax')  # Output layer with 81 neurons for 9x9 Sudoku grid\n",
        "])\n",
        "\n",
        "# Compile the model\n",
        "model.compile(optimizer='adam',\n",
        "              loss='sparse_categorical_crossentropy',\n",
        "              metrics=['accuracy'])\n",
        "\n",
        "# Print the model summary\n",
        "model.summary()\n"
      ]
    }
  ],
  "metadata": {
    "colab": {
      "provenance": []
    },
    "kernelspec": {
      "display_name": "Python 3",
      "name": "python3"
    },
    "language_info": {
      "name": "python"
    }
  },
  "nbformat": 4,
  "nbformat_minor": 0
}
